{
 "cells": [
  {
   "cell_type": "code",
   "execution_count": 112,
   "id": "91605176",
   "metadata": {},
   "outputs": [
    {
     "data": {
      "text/html": [
       "<pre style=\"word-wrap: normal;white-space: pre;background: #fff0;line-height: 1.1;font-family: &quot;Courier New&quot;,Courier,monospace\">   ┌─────────────────────────────────┐\n",
       "q: ┤ State Preparation(0.86603,-0.5) ├\n",
       "   └─────────────────────────────────┘</pre>"
      ],
      "text/plain": [
       "   ┌─────────────────────────────────┐\n",
       "q: ┤ State Preparation(0.86603,-0.5) ├\n",
       "   └─────────────────────────────────┘"
      ]
     },
     "execution_count": 112,
     "metadata": {},
     "output_type": "execute_result"
    }
   ],
   "source": [
    "from qiskit import QuantumCircuit, transpile, QuantumRegister, ClassicalRegister\n",
    "from qiskit.quantum_info import Statevector\n",
    "from qiskit_aer import Aer\n",
    "from qiskit.visualization import plot_histogram\n",
    "import numpy as np\n",
    "import scipy\n",
    "#Are the following valid states of a qubit ?\n",
    "theta = 30\n",
    "states = [ [np.sqrt(3)/2,-1/2],[0.8,0.6], [np.cos(theta), np.sin(theta)*1j] , [1/2 + 1j/2, 1/2 - 1j/2]]\n",
    "invalidStates = [[0.7, 0.3],[np.cos(theta)**2,-1* (np.sin(theta))**2], [1/np.sqrt(2),1],]\n",
    "state = Statevector([0.8,0.6j])\n",
    "\n",
    "for s in states:\n",
    "    try:  \n",
    "        qc = QuantumCircuit(1)\n",
    "        qc.prepare_state(Statevector(s), [0])\n",
    "        #Note that draw doesn't produce a drawing here\n",
    "        qc.draw()\n",
    "    except:\n",
    "        print(f\"This is not a valid state: {s}\")\n",
    "\n",
    "qc = QuantumCircuit(1)\n",
    "qc.prepare_state(Statevector(states[0]), [0])\n",
    "#Outside the try except we do get a drawing.\n",
    "qc.draw()\n"
   ]
  },
  {
   "cell_type": "code",
   "execution_count": 79,
   "id": "dc19a248",
   "metadata": {},
   "outputs": [
    {
     "name": "stdout",
     "output_type": "stream",
     "text": [
      "[0.03333333 0.13333333 0.3        0.53333333]\n",
      "Statevector([0.+0.j, 0.+0.j, 0.+0.j, 1.+0.j],\n",
      "            dims=(2, 2))\n",
      "Result(backend_name='qasm_simulator', backend_version='0.17.0', job_id='3d88917f-9334-4cd1-b8c9-b7866d1eb02f', success=True, results=[ExperimentResult(shots=8196, success=True, meas_level=2, data=ExperimentResultData(counts={'0x1': 5481, '0x0': 2715}), header={'creg_sizes': [['creg', 2]], 'global_phase': 0.7853981633974483, 'memory_slots': 2, 'n_qubits': 2, 'name': 'circuit-519', 'qreg_sizes': [['a', 2]], 'metadata': {}}, status=DONE, seed_simulator=2149536649, metadata={'batched_shots_optimization': False, 'required_memory_mb': 1, 'method': 'statevector', 'active_input_qubits': [0, 1], 'device': 'CPU', 'remapped_qubits': False, 'num_qubits': 2, 'num_clbits': 2, 'time_taken': 0.0312994, 'sample_measure_time': 0.0016634, 'input_qubit_map': [[0, 0], [1, 1]], 'max_memory_mb': 32400, 'measure_sampling': True, 'noise': 'ideal', 'parallel_shots': 1, 'parallel_state_update': 12, 'runtime_parameter_bind': False, 'num_bind_params': 1, 'fusion': {'enabled': True, 'threshold': 14, 'max_fused_qubits': 5, 'applied': False}}, time_taken=0.0312994)], date=2025-05-21T09:23:57.124828, status=COMPLETED, header=None, qobj_id='', metadata={'omp_enabled': True, 'parallel_experiments': 1, 'max_memory_mb': 32400, 'max_gpu_memory_mb': 0, 'time_taken_execute': 0.0313721, 'time_taken_parameter_binding': 1.19e-05}, time_taken=0.03232550621032715)\n",
      "{'01': 5481, '00': 2715}\n"
     ]
    },
    {
     "data": {
      "image/png": "[encoded data removed]",
      "text/plain": [
       "<Figure size 640x480 with 1 Axes>"
      ]
     },
     "execution_count": 79,
     "metadata": {},
     "output_type": "execute_result"
    }
   ],
   "source": [
    "# A two qubit system is in the following state: 1/sqrt(30) * (/00> + 2i /01> -3 /10> -4i /11>) \n",
    "# the first qubit is measured and observed to be 1. What is the state of the system after the measurement ?\n",
    "# what is the probability that a subsequent measurement of the second qbit will be yield 1 ?\n",
    "qc = QuantumCircuit()\n",
    "q0 = Statevector.from_label(\"00\")\n",
    "q1 = Statevector.from_label(\"01\")\n",
    "q2 = Statevector.from_label(\"10\") #1/np.sqrt(30) * []])\n",
    "q3 = Statevector.from_label(\"11\")\n",
    "newState = 1/np.sqrt(30) * (q0 + 2j*q1 -3*q2 -4j*q3)\n",
    "print(newState.probabilities())\n",
    "print(q3)\n",
    "qr = QuantumRegister(2, 'a')\n",
    "cr = ClassicalRegister(2, 'creg')\n",
    "qc.add_register(cr)\n",
    "qc.add_register(qr)\n",
    "qc.prepare_state(newState,[0,1])\n",
    "qc.measure(qr[0],cr[0])\n",
    "qc.draw(\"mpl\")\n",
    "qasm_sim = Aer.get_backend('qasm_simulator')\n",
    "sv_sim = Aer.get_backend('statevector_simulator')\n",
    "qcTranspiled1 = transpile(qc, backend = qasm_sim)\n",
    "qcTranspiled2 = transpile(qc, backend = sv_sim)\n",
    "job1 = qasm_sim.run(qcTranspiled1, shots=8196)\n",
    "job2 = sv_sim.run(qcTranspiled2)\n",
    "print(job1.result())\n",
    "job2.result()\n",
    "\n",
    "\n",
    "#ket = job1.result().get_statevector()\n",
    "#import numpy as np\n",
    "# To treat ket as a numpy array you have to explicitly use np.asarray\n",
    "#for amplitude in np.asarray(ket):\n",
    "#    print(amplitude)\n",
    "hist = job1.result().get_counts()\n",
    "print(hist)\n",
    "plot_histogram(hist)"
   ]
  },
  {
   "cell_type": "code",
   "execution_count": null,
   "id": "c9a9e8c0",
   "metadata": {},
   "outputs": [
    {
     "name": "stdout",
     "output_type": "stream",
     "text": [
      "[[ 0.+0.j -0.-1.j]\n",
      " [ 0.+1.j  0.+0.j]]\n",
      "Yx[0.        +0.70710678j 0.70710678+0.j        ] == [ 0.        -0.70710678j -0.70710678+0.j        ] == [-0.        -0.70710678j -0.70710678+0.j        ]\n",
      "[0.-1.j 0.+1.j]\n",
      "[[ 0.70710678 -0.70710678]\n",
      " [ 0.70710678  0.70710678]]\n",
      "[0.70710678+0.70710678j 0.70710678-0.70710678j]\n",
      "EigResult(eigenvalues=array([0.70710678+0.70710678j, 0.70710678-0.70710678j]), eigenvectors=array([[0.70710678+0.j        , 0.70710678-0.j        ],\n",
      "       [0.        -0.70710678j, 0.        +0.70710678j]]))\n"
     ]
    }
   ],
   "source": [
    "\n",
    "#Find the eigenvalues and associated eigenvectors of \n",
    "H = 1/np.sqrt(2) * np.array([[1,-1], [1,1]])\n",
    "\n",
    "Y = np.array([[0, -1j],[1j, 0]])\n",
    "a = np.array([1j/np.sqrt(2), 1/np.sqrt(2)])\n",
    "\n",
    "print(Y)\n",
    "print(f\"Yx{a} == {Y.dot(a)} == {-1 * a}\")\n",
    "print(f\"{Y.dot([1,1])}\")\n",
    "np.linalg.eig(Y)\n",
    "#\n"
   ]
  },
  {
   "cell_type": "code",
   "execution_count": 108,
   "id": "5de9e5b2",
   "metadata": {},
   "outputs": [
    {
     "name": "stdout",
     "output_type": "stream",
     "text": [
      "[[ 0.70710678 -0.70710678]\n",
      " [ 0.70710678  0.70710678]]\n",
      "[0.70710678+0.70710678j 0.70710678-0.70710678j]\n",
      "EigResult(eigenvalues=array([0.70710678+0.70710678j, 0.70710678-0.70710678j]), eigenvectors=array([[0.70710678+0.j        , 0.70710678-0.j        ],\n",
      "       [0.        -0.70710678j, 0.        +0.70710678j]]))\n"
     ]
    }
   ],
   "source": [
    "print(H)\n",
    "print(np.linalg.eigvals(H))\n",
    "print(np.linalg.eig(H))"
   ]
  },
  {
   "cell_type": "code",
   "execution_count": null,
   "id": "d2dfa620",
   "metadata": {},
   "outputs": [
    {
     "name": "stdout",
     "output_type": "stream",
     "text": [
      "XxX is: [[1 0]\n",
      " [0 1]] which is the same as the identity matrix: [[ True  True]\n",
      " [ True  True]]\n"
     ]
    }
   ],
   "source": [
    "# Show that Hadamard and Pauli are unitary\n",
    "X = np.array([[0,1],[1,0]])\n",
    "print(f\"XxX is: {X.dot(X)} which is the same as the identity matrix: {X.dot(X) == np.eye(2)}\")"
   ]
  },
  {
   "cell_type": "code",
   "execution_count": 131,
   "id": "7cf8928e",
   "metadata": {},
   "outputs": [
    {
     "name": "stdout",
     "output_type": "stream",
     "text": [
      "I tensor H is: [[ 1.  1.  0.  0.]\n",
      " [ 1. -1.  0. -0.]\n",
      " [ 0.  0.  1.  1.]\n",
      " [ 0. -0.  1. -1.]]\n",
      "array([[ 1.,  1.,  0.,  0.],\n",
      "       [ 1., -1.,  0., -0.],\n",
      "       [ 0.,  0.,  1.,  1.],\n",
      "       [ 0., -0.,  1., -1.]])\n"
     ]
    },
    {
     "data": {
      "image/png": "[encoded data removed]",
      "text/plain": [
       "<Figure size 640x480 with 1 Axes>"
      ]
     },
     "metadata": {},
     "output_type": "display_data"
    },
    {
     "data": {
      "image/png": "[encoded data removed]",
      "text/plain": [
       "<Figure size 640x480 with 1 Axes>"
      ]
     },
     "metadata": {},
     "output_type": "display_data"
    }
   ],
   "source": [
    " #If I is the 2-dimensional identity matrix and H is the Hadamard operator, give matrix rep resentations of the operators I \\tensor H and H \\tensor I\n",
    "I = np.eye(2)\n",
    "H = scipy.linalg.hadamard(2)\n",
    "fig,ax = plt.subplots()\n",
    "ax = plt.imshow(np.squeeze(H))\n",
    "ItH = np.kron(I,H)#np.tensordot(I,H, axes = 1)\n",
    "print(f\"I tensor H is: {ItH}\")\n",
    "import pprint\n",
    "pprint.pprint(ItH)\n",
    "import matplotlib.pyplot as plt\n",
    "fig2, ax2 = plt.subplots()\n",
    "ax2 = plt.imshow(np.squeeze(ItH))"
   ]
  },
  {
   "cell_type": "code",
   "execution_count": 137,
   "id": "7d2d9f5e",
   "metadata": {},
   "outputs": [
    {
     "name": "stdout",
     "output_type": "stream",
     "text": [
      "[[ True  True]\n",
      " [ True  True]]\n"
     ]
    }
   ],
   "source": [
    "# For the Pauli matrices XY and Z, show that XY = iZ.\n",
    "Z = np.array([[1,0],[0,-1]])\n",
    "print(X.dot(Y)== 1j*Z)\n"
   ]
  },
  {
   "cell_type": "code",
   "execution_count": 142,
   "id": "09cabf83",
   "metadata": {},
   "outputs": [
    {
     "name": "stdout",
     "output_type": "stream",
     "text": [
      "[0.64 0.   0.   0.36]\n",
      "Statevector([0.+0.j, 0.+0.j, 0.+0.j, 1.+0.j],\n",
      "            dims=(2, 2))\n",
      "Result(backend_name='qasm_simulator', backend_version='0.17.0', job_id='2beecb5e-090d-4835-9b10-c82bd3430cd9', success=True, results=[ExperimentResult(shots=8196, success=True, meas_level=2, data=ExperimentResultData(counts={'0x0': 5292, '0x1': 2904}), header={'creg_sizes': [['creg', 2], ['creg2', 2], ['c0', 2]], 'global_phase': 5.497787143782138, 'memory_slots': 6, 'n_qubits': 5, 'name': 'circuit-548', 'qreg_sizes': [['q', 1], ['a', 2], ['q0', 2]], 'metadata': {}}, status=DONE, seed_simulator=2213778056, metadata={'batched_shots_optimization': False, 'required_memory_mb': 1, 'method': 'statevector', 'active_input_qubits': [0, 1, 3], 'device': 'CPU', 'remapped_qubits': True, 'num_qubits': 3, 'num_clbits': 6, 'time_taken': 0.0832878, 'sample_measure_time': 0.0026421, 'input_qubit_map': [[0, 0], [1, 1], [3, 2]], 'max_memory_mb': 32400, 'measure_sampling': True, 'noise': 'ideal', 'parallel_shots': 1, 'parallel_state_update': 12, 'runtime_parameter_bind': False, 'num_bind_params': 1, 'fusion': {'enabled': True, 'threshold': 14, 'max_fused_qubits': 5, 'applied': False}}, time_taken=0.0832878)], date=2025-05-22T10:44:34.452074, status=COMPLETED, header=None, qobj_id='', metadata={'omp_enabled': True, 'parallel_experiments': 1, 'max_memory_mb': 32400, 'max_gpu_memory_mb': 0, 'time_taken_execute': 0.0834105, 'time_taken_parameter_binding': 2.92e-05}, time_taken=0.08466768264770508)\n",
      "{'00 00 00': 5292, '00 00 01': 2904}\n"
     ]
    },
    {
     "data": {
      "image/png": "[encoded data removed]",
      "text/plain": [
       "<Figure size 640x480 with 1 Axes>"
      ]
     },
     "execution_count": 142,
     "metadata": {},
     "output_type": "execute_result"
    }
   ],
   "source": [
    "#Suppose a two-qubit system is in the state 0.8/00> + 0.6/11> . A Pauli X gate (i.e. a NOT\n",
    "# gate) is applied to the second qubit and a measurement performed (on each qubit) in the\n",
    "# computational basis. What are the probabilities of the possible measurement outcomes?\n",
    "q0 = Statevector.from_label(\"00\")\n",
    "#q1 = Statevector.from_label(\"01\")\n",
    "#q2 = Statevector.from_label(\"10\") #1/np.sqrt(30) * []])\n",
    "q3 = Statevector.from_label(\"11\")\n",
    "newState = 0.8*q0 + 0.6*q3\n",
    "print(newState.probabilities())\n",
    "print(q3)\n",
    "qr = QuantumRegister(2)\n",
    "cr = ClassicalRegister(2)\n",
    "qc.add_register(cr)\n",
    "qc.add_register(qr)\n",
    "qc.prepare_state(newState,[0,1])\n",
    "qc.measure(qr[0],cr[0])\n",
    "qc.draw(\"mpl\")\n",
    "qasm_sim = Aer.get_backend('qasm_simulator')\n",
    "sv_sim = Aer.get_backend('statevector_simulator')\n",
    "qcTranspiled1 = transpile(qc, backend = qasm_sim)\n",
    "qcTranspiled2 = transpile(qc, backend = sv_sim)\n",
    "job1 = qasm_sim.run(qcTranspiled1, shots=8196)\n",
    "job2 = sv_sim.run(qcTranspiled2)\n",
    "print(job1.result())\n",
    "job2.result()\n",
    "hist = job1.result().get_counts()\n",
    "print(hist)\n",
    "plot_histogram(hist)\n",
    "\n",
    "\n"
   ]
  },
  {
   "cell_type": "code",
   "execution_count": null,
   "id": "2f711345",
   "metadata": {},
   "outputs": [],
   "source": [
    "\n",
    "\n",
    "#Show that unitary operations are norm preserving. That is, if U is unitary, then the norm of U/\\psi> equals the norm of /\\psi>, for all /\\psi>.\n"
   ]
  },
  {
   "cell_type": "code",
   "execution_count": null,
   "id": "cf8e99b5",
   "metadata": {},
   "outputs": [],
   "source": [
    "# Show that the entangled state 1/np.sqrt(2) (/00> + /11>)cannot be expressed as a tensor product of two single qubit states.\n",
    "# Hint: start with a general expression of a tensor product of two single qubit states, (\\alpha /0> + \\beta /1>)(\\gamma /0> +\\delta /1>)andmultiply out. \n"
   ]
  },
  {
   "cell_type": "code",
   "execution_count": null,
   "id": "01255945",
   "metadata": {},
   "outputs": [],
   "source": [
    "\n",
    "# . Let = 0+ 1 , if ismeasuredusingmeasurement operatorsM0 = 0 0 and\n",
    "#  M1=1 1 verifythatp(M0)= 2andp(M1)= 2.\n",
    "#  1 \n",
    " \n",
    "#  13. We wish to distinguish two quantum states:\n",
    "#  In the rst case, the state is either 0 or 3\n",
    "#  2 0+1\n",
    "#  2 1 .\n",
    "#  In the second case, the state is either 0 or 1\n",
    "#  2 0+ 3\n",
    "#  2 1\n",
    "#  Which of these cases do you expect to be able to distinguish with higher probability. Verify\n",
    "#  your answer using the Helstrom-Holevo bound.\n",
    "#  14. Describe (qualitatively) how, if cloning were possible, then the no-signalling principle could\n",
    "#  be violated"
   ]
  },
  {
   "cell_type": "code",
   "execution_count": null,
   "id": "d5a2178e",
   "metadata": {},
   "outputs": [
    {
     "data": {
      "text/plain": [
       "Result(backend_name='statevector_simulator', backend_version='0.17.0', job_id='9830b8c5-7f68-40b1-9d25-ae3aad0419d5', success=True, results=[ExperimentResult(shots=1, success=True, meas_level=2, data=ExperimentResultData(statevector=Statevector([ 0.8660254+0.j, -0.5      +0.j],\n",
       "            dims=(2,))), header={'creg_sizes': [], 'global_phase': 0.0, 'memory_slots': 0, 'n_qubits': 1, 'name': 'circuit-204', 'qreg_sizes': [['q', 1]], 'metadata': {}}, status=DONE, seed_simulator=3686107528, metadata={'batched_shots_optimization': False, 'required_memory_mb': 1, 'method': 'statevector', 'active_input_qubits': [0], 'device': 'CPU', 'remapped_qubits': False, 'num_qubits': 1, 'num_clbits': 0, 'time_taken': 0.0004597, 'input_qubit_map': [[0, 0]], 'max_memory_mb': 32400, 'measure_sampling': True, 'noise': 'ideal', 'parallel_shots': 1, 'parallel_state_update': 12, 'runtime_parameter_bind': False, 'num_bind_params': 1, 'fusion': {'enabled': True, 'threshold': 14, 'max_fused_qubits': 5, 'applied': False}, 'result_subtypes': {'statevector': 'single'}, 'result_types': {'statevector': 'save_statevector'}}, time_taken=0.0004597)], date=2025-05-21T09:09:25.542901, status=COMPLETED, header=None, qobj_id='', metadata={'omp_enabled': True, 'parallel_experiments': 1, 'max_memory_mb': 32400, 'max_gpu_memory_mb': 0, 'time_taken_execute': 0.000612, 'time_taken_parameter_binding': 6.7e-06}, time_taken=0.0015287399291992188)"
      ]
     },
     "execution_count": 49,
     "metadata": {},
     "output_type": "execute_result"
    }
   ],
   "source": []
  },
  {
   "cell_type": "code",
   "execution_count": null,
   "id": "f92d41c3",
   "metadata": {},
   "outputs": [
    {
     "ename": "QiskitError",
     "evalue": "'No counts for experiment \"0\"'",
     "output_type": "error",
     "traceback": [
      "\u001b[31m---------------------------------------------------------------------------\u001b[39m",
      "\u001b[31mQiskitError\u001b[39m                               Traceback (most recent call last)",
      "\u001b[36mCell\u001b[39m\u001b[36m \u001b[39m\u001b[32mIn[55]\u001b[39m\u001b[32m, line 8\u001b[39m\n\u001b[32m      1\u001b[39m \u001b[38;5;28;01mfrom\u001b[39;00m\u001b[38;5;250m \u001b[39m\u001b[34;01mqiskit\u001b[39;00m\u001b[34;01m.\u001b[39;00m\u001b[34;01mvisualization\u001b[39;00m\u001b[38;5;250m \u001b[39m\u001b[38;5;28;01mimport\u001b[39;00m plot_histogram\n\u001b[32m      3\u001b[39m \u001b[38;5;66;03m#ket = job1.result().get_statevector()\u001b[39;00m\n\u001b[32m      4\u001b[39m \u001b[38;5;66;03m#import numpy as np\u001b[39;00m\n\u001b[32m      5\u001b[39m \u001b[38;5;66;03m# To treat ket as a numpy array you have to explicitly use np.asarray\u001b[39;00m\n\u001b[32m      6\u001b[39m \u001b[38;5;66;03m#for amplitude in np.asarray(ket):\u001b[39;00m\n\u001b[32m      7\u001b[39m \u001b[38;5;66;03m#    print(amplitude)\u001b[39;00m\n\u001b[32m----> \u001b[39m\u001b[32m8\u001b[39m hist = \u001b[43mjob1\u001b[49m\u001b[43m.\u001b[49m\u001b[43mresult\u001b[49m\u001b[43m(\u001b[49m\u001b[43m)\u001b[49m\u001b[43m.\u001b[49m\u001b[43mget_counts\u001b[49m\u001b[43m(\u001b[49m\u001b[43m)\u001b[49m\n\u001b[32m      9\u001b[39m \u001b[38;5;28mprint\u001b[39m(hist)\n",
      "\u001b[36mFile \u001b[39m\u001b[32mc:\\Users\\Omer\\qiskit4\\Lib\\site-packages\\qiskit\\result\\result.py:276\u001b[39m, in \u001b[36mResult.get_counts\u001b[39m\u001b[34m(self, experiment)\u001b[39m\n\u001b[32m    274\u001b[39m         dict_list.append(statevector.Statevector(vec).probabilities_dict(decimals=\u001b[32m15\u001b[39m))\n\u001b[32m    275\u001b[39m     \u001b[38;5;28;01melse\u001b[39;00m:\n\u001b[32m--> \u001b[39m\u001b[32m276\u001b[39m         \u001b[38;5;28;01mraise\u001b[39;00m QiskitError(\u001b[33mf\u001b[39m\u001b[33m'\u001b[39m\u001b[33mNo counts for experiment \u001b[39m\u001b[33m\"\u001b[39m\u001b[38;5;132;01m{\u001b[39;00m\u001b[38;5;28mrepr\u001b[39m(key)\u001b[38;5;132;01m}\u001b[39;00m\u001b[33m\"\u001b[39m\u001b[33m'\u001b[39m)\n\u001b[32m    278\u001b[39m \u001b[38;5;66;03m# Return first item of dict_list if size is 1\u001b[39;00m\n\u001b[32m    279\u001b[39m \u001b[38;5;28;01mif\u001b[39;00m \u001b[38;5;28mlen\u001b[39m(dict_list) == \u001b[32m1\u001b[39m:\n",
      "\u001b[31mQiskitError\u001b[39m: 'No counts for experiment \"0\"'"
     ]
    }
   ],
   "source": []
  }
 ],
 "metadata": {
  "kernelspec": {
   "display_name": "qiskit4",
   "language": "python",
   "name": "python3"
  },
  "language_info": {
   "codemirror_mode": {
    "name": "ipython",
    "version": 3
   },
   "file_extension": ".py",
   "mimetype": "text/x-python",
   "name": "python",
   "nbconvert_exporter": "python",
   "pygments_lexer": "ipython3",
   "version": "3.13.3"
  }
 },
 "nbformat": 4,
 "nbformat_minor": 5
}
